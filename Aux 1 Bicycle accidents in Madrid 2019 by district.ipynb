{
    "cells": [
        {
            "cell_type": "markdown",
            "metadata": {},
            "source": "## Aux 1 Bicyle accidents in Madrid in 2019 by district"
        },
        {
            "cell_type": "code",
            "execution_count": 1,
            "metadata": {},
            "outputs": [],
            "source": "# Import libraries\nimport pandas as pd\nimport numpy as np\nfrom datetime import datetime"
        },
        {
            "cell_type": "markdown",
            "metadata": {},
            "source": "#### Download 2019 Madrid traffic accidents information from the Madrid's Council opendata website"
        },
        {
            "cell_type": "code",
            "execution_count": 2,
            "metadata": {},
            "outputs": [],
            "source": "# Download the information\n!wget -q -O 'accidents2019.csv' https://datos.madrid.es/egob/catalogo/300228-19-accidentes-trafico-detalle.csv"
        },
        {
            "cell_type": "code",
            "execution_count": 3,
            "metadata": {},
            "outputs": [
                {
                    "name": "stdout",
                    "output_type": "stream",
                    "text": "Requirement already satisfied: chardet in /opt/conda/envs/Python36/lib/python3.6/site-packages (3.0.4)\n{'encoding': 'ISO-8859-1', 'confidence': 0.73, 'language': ''}\n"
                }
            ],
            "source": "# Check the encoding of the csv\n!pip install chardet\nimport chardet \n\nwith open(\"accidents2019.csv\", 'rb') as file:\n    print(chardet.detect(file.read()))"
        },
        {
            "cell_type": "markdown",
            "metadata": {},
            "source": "#### Create a DataFrame (df_accidents) from the CSV"
        },
        {
            "cell_type": "code",
            "execution_count": 4,
            "metadata": {},
            "outputs": [
                {
                    "data": {
                        "text/html": "<div>\n<style scoped>\n    .dataframe tbody tr th:only-of-type {\n        vertical-align: middle;\n    }\n\n    .dataframe tbody tr th {\n        vertical-align: top;\n    }\n\n    .dataframe thead th {\n        text-align: right;\n    }\n</style>\n<table border=\"1\" class=\"dataframe\">\n  <thead>\n    <tr style=\"text-align: right;\">\n      <th></th>\n      <th>N\u00ba  EXPEDIENTE</th>\n      <th>FECHA</th>\n      <th>HORA</th>\n      <th>CALLE</th>\n      <th>N\u00daMERO</th>\n      <th>DISTRITO</th>\n      <th>TIPO ACCIDENTE</th>\n      <th>ESTADO METEREOL\u00d3GICO</th>\n      <th>TIPO VEH\u00cdCULO</th>\n      <th>TIPO PERSONA</th>\n      <th>RANGO EDAD</th>\n      <th>SEXO</th>\n      <th>LESIVIDAD*</th>\n      <th>* La correspondencia de los c\u00f3digos se encuentra descrito en la estructura del fichero.</th>\n    </tr>\n  </thead>\n  <tbody>\n    <tr>\n      <th>0</th>\n      <td>2019S000020</td>\n      <td>01/01/2019</td>\n      <td>23:30</td>\n      <td>CALL. FUENCARRAL</td>\n      <td>149</td>\n      <td>CHAMBER\u00cd</td>\n      <td>Ca\u00edda</td>\n      <td>Despejado</td>\n      <td>Ciclomotor</td>\n      <td>Conductor</td>\n      <td>DE 25 A 29 A\u00d1OS</td>\n      <td>Hombre</td>\n      <td>1.0</td>\n      <td>NaN</td>\n    </tr>\n    <tr>\n      <th>1</th>\n      <td>2019S000017</td>\n      <td>01/01/2019</td>\n      <td>22:15</td>\n      <td>CALL. OCA / CALL. PINZON</td>\n      <td>-</td>\n      <td>CARABANCHEL</td>\n      <td>Colisi\u00f3n fronto-lateral</td>\n      <td>Despejado</td>\n      <td>Turismo</td>\n      <td>Conductor</td>\n      <td>DE 40 A 44 A\u00d1OS</td>\n      <td>Mujer</td>\n      <td>14.0</td>\n      <td>NaN</td>\n    </tr>\n    <tr>\n      <th>2</th>\n      <td>2019S000017</td>\n      <td>01/01/2019</td>\n      <td>22:15</td>\n      <td>CALL. OCA / CALL. PINZON</td>\n      <td>-</td>\n      <td>CARABANCHEL</td>\n      <td>Colisi\u00f3n fronto-lateral</td>\n      <td>Despejado</td>\n      <td>Ciclomotor</td>\n      <td>Conductor</td>\n      <td>DE 35 A 39 A\u00d1OS</td>\n      <td>Hombre</td>\n      <td>3.0</td>\n      <td>NaN</td>\n    </tr>\n    <tr>\n      <th>3</th>\n      <td>2019S001812</td>\n      <td>01/01/2019</td>\n      <td>21:40</td>\n      <td>CALL. BAILEN / CUSTA. SAN VICENTE</td>\n      <td>-</td>\n      <td>CENTRO</td>\n      <td>Colisi\u00f3n fronto-lateral</td>\n      <td>Despejado</td>\n      <td>Turismo</td>\n      <td>Conductor</td>\n      <td>DE 40 A 44 A\u00d1OS</td>\n      <td>Hombre</td>\n      <td>14.0</td>\n      <td>NaN</td>\n    </tr>\n    <tr>\n      <th>4</th>\n      <td>2019S001812</td>\n      <td>01/01/2019</td>\n      <td>21:40</td>\n      <td>CALL. BAILEN / CUSTA. SAN VICENTE</td>\n      <td>-</td>\n      <td>CENTRO</td>\n      <td>Colisi\u00f3n fronto-lateral</td>\n      <td>Despejado</td>\n      <td>Turismo</td>\n      <td>Conductor</td>\n      <td>DE 30 A 34 A\u00d1OS</td>\n      <td>Mujer</td>\n      <td>7.0</td>\n      <td>NaN</td>\n    </tr>\n  </tbody>\n</table>\n</div>",
                        "text/plain": "  N\u00ba  EXPEDIENTE       FECHA   HORA                              CALLE N\u00daMERO  \\\n0    2019S000020  01/01/2019  23:30                   CALL. FUENCARRAL    149   \n1    2019S000017  01/01/2019  22:15           CALL. OCA / CALL. PINZON      -   \n2    2019S000017  01/01/2019  22:15           CALL. OCA / CALL. PINZON      -   \n3    2019S001812  01/01/2019  21:40  CALL. BAILEN / CUSTA. SAN VICENTE      -   \n4    2019S001812  01/01/2019  21:40  CALL. BAILEN / CUSTA. SAN VICENTE      -   \n\n      DISTRITO           TIPO ACCIDENTE ESTADO METEREOL\u00d3GICO TIPO VEH\u00cdCULO  \\\n0     CHAMBER\u00cd                    Ca\u00edda            Despejado    Ciclomotor   \n1  CARABANCHEL  Colisi\u00f3n fronto-lateral            Despejado       Turismo   \n2  CARABANCHEL  Colisi\u00f3n fronto-lateral            Despejado    Ciclomotor   \n3       CENTRO  Colisi\u00f3n fronto-lateral            Despejado       Turismo   \n4       CENTRO  Colisi\u00f3n fronto-lateral            Despejado       Turismo   \n\n  TIPO PERSONA       RANGO EDAD    SEXO  LESIVIDAD*  \\\n0    Conductor  DE 25 A 29 A\u00d1OS  Hombre         1.0   \n1    Conductor  DE 40 A 44 A\u00d1OS   Mujer        14.0   \n2    Conductor  DE 35 A 39 A\u00d1OS  Hombre         3.0   \n3    Conductor  DE 40 A 44 A\u00d1OS  Hombre        14.0   \n4    Conductor  DE 30 A 34 A\u00d1OS   Mujer         7.0   \n\n   * La correspondencia de los c\u00f3digos se encuentra descrito en la estructura del fichero.  \n0                                                NaN                                        \n1                                                NaN                                        \n2                                                NaN                                        \n3                                                NaN                                        \n4                                                NaN                                        "
                    },
                    "execution_count": 4,
                    "metadata": {},
                    "output_type": "execute_result"
                }
            ],
            "source": "# Read the csv downloaded into a df\ndf_accidents = pd.read_csv('accidents2019.csv', sep=';', encoding='ISO-8859-1')\ndf_accidents.head(5)"
        },
        {
            "cell_type": "code",
            "execution_count": 5,
            "metadata": {},
            "outputs": [
                {
                    "data": {
                        "text/plain": "(51806, 14)"
                    },
                    "execution_count": 5,
                    "metadata": {},
                    "output_type": "execute_result"
                }
            ],
            "source": "# Check the size of the df\ndf_accidents.shape"
        },
        {
            "cell_type": "markdown",
            "metadata": {},
            "source": "#### Data Cleansing"
        },
        {
            "cell_type": "code",
            "execution_count": 6,
            "metadata": {},
            "outputs": [
                {
                    "data": {
                        "text/html": "<div>\n<style scoped>\n    .dataframe tbody tr th:only-of-type {\n        vertical-align: middle;\n    }\n\n    .dataframe tbody tr th {\n        vertical-align: top;\n    }\n\n    .dataframe thead th {\n        text-align: right;\n    }\n</style>\n<table border=\"1\" class=\"dataframe\">\n  <thead>\n    <tr style=\"text-align: right;\">\n      <th></th>\n      <th>DATE</th>\n      <th>DISTRICT</th>\n      <th>VEHICLE</th>\n    </tr>\n  </thead>\n  <tbody>\n    <tr>\n      <th>0</th>\n      <td>01/01/2019</td>\n      <td>CHAMBER\u00cd</td>\n      <td>Ciclomotor</td>\n    </tr>\n    <tr>\n      <th>1</th>\n      <td>01/01/2019</td>\n      <td>CARABANCHEL</td>\n      <td>Turismo</td>\n    </tr>\n    <tr>\n      <th>2</th>\n      <td>01/01/2019</td>\n      <td>CARABANCHEL</td>\n      <td>Ciclomotor</td>\n    </tr>\n    <tr>\n      <th>3</th>\n      <td>01/01/2019</td>\n      <td>CENTRO</td>\n      <td>Turismo</td>\n    </tr>\n    <tr>\n      <th>4</th>\n      <td>01/01/2019</td>\n      <td>CENTRO</td>\n      <td>Turismo</td>\n    </tr>\n  </tbody>\n</table>\n</div>",
                        "text/plain": "         DATE     DISTRICT     VEHICLE\n0  01/01/2019     CHAMBER\u00cd  Ciclomotor\n1  01/01/2019  CARABANCHEL     Turismo\n2  01/01/2019  CARABANCHEL  Ciclomotor\n3  01/01/2019       CENTRO     Turismo\n4  01/01/2019       CENTRO     Turismo"
                    },
                    "execution_count": 6,
                    "metadata": {},
                    "output_type": "execute_result"
                }
            ],
            "source": "# Delete columns\ndf_accidents = df_accidents.drop(df_accidents.columns[[0, 2, 3, 4, 6, 7, 9, 10, 11, 12, 13]], axis=1)\n\n# Rename columns\ndf_accidents.rename(columns={'N\u00ba  EXPEDIENTE': 'EXP', 'FECHA':'DATE', 'DISTRITO':'DISTRICT', 'TIPO VEH\u00cdCULO':'VEHICLE'}, inplace=True)\n\ndf_accidents.head(5)"
        },
        {
            "cell_type": "code",
            "execution_count": 7,
            "metadata": {},
            "outputs": [
                {
                    "data": {
                        "text/plain": "DATE        datetime64[ns]\nDISTRICT            object\nVEHICLE             object\ndtype: object"
                    },
                    "execution_count": 7,
                    "metadata": {},
                    "output_type": "execute_result"
                }
            ],
            "source": "# Change type of columns: date to datetime\ndf_accidents['DATE'] = pd.to_datetime(df_accidents['DATE'])\n\ndf_accidents.dtypes"
        },
        {
            "cell_type": "markdown",
            "metadata": {},
            "source": "#### Explore the number of accidentes by type of vehicle"
        },
        {
            "cell_type": "code",
            "execution_count": 8,
            "metadata": {},
            "outputs": [
                {
                    "data": {
                        "text/plain": "Turismo                              36499\nMotocicleta > 125cc                   3527\nFurgoneta                             3125\nMotocicleta hasta 125cc               2529\nAutob\u00fas                               1408\nCami\u00f3n r\u00edgido                         1167\nBicicleta                              884\nCiclomotor                             809\nTodo terreno                           689\nOtros veh\u00edculos con motor              330\nTractocami\u00f3n                           195\nMaquinaria de obras                    117\nVeh\u00edculo articulado                    106\nAutob\u00fas articulado                      83\nSin especificar                         42\nCiclo                                   20\nVMU el\u00e9ctrico                           18\nCuadriciclo ligero                      15\nCuadriciclo no ligero                   14\nAutocaravana                            13\nPatinete                                 9\nBicicleta EPAC (pedaleo asistido)        7\nOtros veh\u00edculos sin motor                7\nSemiremolque                             5\nAutobus EMT                              3\nRemolque                                 3\nMicrob\u00fas <= 17 plazas                    2\nCaravana                                 1\nTranv\u00eda                                  1\nName: VEHICLE, dtype: int64"
                    },
                    "execution_count": 8,
                    "metadata": {},
                    "output_type": "execute_result"
                }
            ],
            "source": "df_accidents['VEHICLE'].value_counts()"
        },
        {
            "cell_type": "markdown",
            "metadata": {},
            "source": "#### Filter bicycle accidents information"
        },
        {
            "cell_type": "code",
            "execution_count": 9,
            "metadata": {},
            "outputs": [
                {
                    "data": {
                        "text/html": "<div>\n<style scoped>\n    .dataframe tbody tr th:only-of-type {\n        vertical-align: middle;\n    }\n\n    .dataframe tbody tr th {\n        vertical-align: top;\n    }\n\n    .dataframe thead th {\n        text-align: right;\n    }\n</style>\n<table border=\"1\" class=\"dataframe\">\n  <thead>\n    <tr style=\"text-align: right;\">\n      <th></th>\n      <th>DATE</th>\n      <th>DISTRICT</th>\n    </tr>\n  </thead>\n  <tbody>\n    <tr>\n      <th>0</th>\n      <td>2019-01-01</td>\n      <td>SALAMANCA</td>\n    </tr>\n    <tr>\n      <th>1</th>\n      <td>2019-02-01</td>\n      <td>HORTALEZA</td>\n    </tr>\n    <tr>\n      <th>2</th>\n      <td>2019-03-01</td>\n      <td>VILLA DE VALLECAS</td>\n    </tr>\n    <tr>\n      <th>3</th>\n      <td>2019-03-01</td>\n      <td>VILLA DE VALLECAS</td>\n    </tr>\n    <tr>\n      <th>4</th>\n      <td>2019-03-01</td>\n      <td>VILLA DE VALLECAS</td>\n    </tr>\n  </tbody>\n</table>\n</div>",
                        "text/plain": "        DATE           DISTRICT\n0 2019-01-01          SALAMANCA\n1 2019-02-01          HORTALEZA\n2 2019-03-01  VILLA DE VALLECAS\n3 2019-03-01  VILLA DE VALLECAS\n4 2019-03-01  VILLA DE VALLECAS"
                    },
                    "execution_count": 9,
                    "metadata": {},
                    "output_type": "execute_result"
                }
            ],
            "source": "# We only need information for accidents where the type of vehicle involved was a bicycle\ndf_accidents = df_accidents[df_accidents['VEHICLE']=='Bicicleta']\n\n# We drop the column vehicle as it does not provide useful information now\ndf_accidents = df_accidents.drop(df_accidents.columns[[2]], axis=1)\n\n# Reset index\ndf_accidents.reset_index(inplace=True, drop=True)\ndf_accidents.head(5)"
        },
        {
            "cell_type": "code",
            "execution_count": 10,
            "metadata": {},
            "outputs": [
                {
                    "data": {
                        "text/plain": "(884, 2)"
                    },
                    "execution_count": 10,
                    "metadata": {},
                    "output_type": "execute_result"
                }
            ],
            "source": "# Check the new size of the df\ndf_accidents.shape"
        },
        {
            "cell_type": "code",
            "execution_count": 11,
            "metadata": {},
            "outputs": [
                {
                    "data": {
                        "text/plain": "DATE        0\nDISTRICT    0\ndtype: int64"
                    },
                    "execution_count": 11,
                    "metadata": {},
                    "output_type": "execute_result"
                }
            ],
            "source": "# Check if there is any missing value\ndf_accidents.isna().sum()"
        },
        {
            "cell_type": "markdown",
            "metadata": {},
            "source": "#### Create a new DataFrame (df_accidents_summary) grouping bicycle accidents information by district"
        },
        {
            "cell_type": "code",
            "execution_count": 12,
            "metadata": {},
            "outputs": [
                {
                    "data": {
                        "text/html": "<div>\n<style scoped>\n    .dataframe tbody tr th:only-of-type {\n        vertical-align: middle;\n    }\n\n    .dataframe tbody tr th {\n        vertical-align: top;\n    }\n\n    .dataframe thead th {\n        text-align: right;\n    }\n</style>\n<table border=\"1\" class=\"dataframe\">\n  <thead>\n    <tr style=\"text-align: right;\">\n      <th></th>\n      <th>DISTRICT</th>\n      <th>NO ACCIDENTS</th>\n    </tr>\n  </thead>\n  <tbody>\n    <tr>\n      <th>0</th>\n      <td>CENTRO</td>\n      <td>142</td>\n    </tr>\n    <tr>\n      <th>1</th>\n      <td>ARGANZUELA</td>\n      <td>72</td>\n    </tr>\n    <tr>\n      <th>2</th>\n      <td>SALAMANCA</td>\n      <td>72</td>\n    </tr>\n    <tr>\n      <th>3</th>\n      <td>CHAMBER\u00cd</td>\n      <td>70</td>\n    </tr>\n    <tr>\n      <th>4</th>\n      <td>RETIRO</td>\n      <td>59</td>\n    </tr>\n    <tr>\n      <th>5</th>\n      <td>FUENCARRAL-EL PARDO</td>\n      <td>49</td>\n    </tr>\n    <tr>\n      <th>6</th>\n      <td>TETU\u00c1N</td>\n      <td>45</td>\n    </tr>\n    <tr>\n      <th>7</th>\n      <td>MONCLOA-ARAVACA</td>\n      <td>45</td>\n    </tr>\n    <tr>\n      <th>8</th>\n      <td>CARABANCHEL</td>\n      <td>43</td>\n    </tr>\n    <tr>\n      <th>9</th>\n      <td>PUENTE DE VALLECAS</td>\n      <td>36</td>\n    </tr>\n    <tr>\n      <th>10</th>\n      <td>CHAMART\u00cdN</td>\n      <td>32</td>\n    </tr>\n    <tr>\n      <th>11</th>\n      <td>LATINA</td>\n      <td>31</td>\n    </tr>\n    <tr>\n      <th>12</th>\n      <td>CIUDAD LINEAL</td>\n      <td>28</td>\n    </tr>\n    <tr>\n      <th>13</th>\n      <td>USERA</td>\n      <td>28</td>\n    </tr>\n    <tr>\n      <th>14</th>\n      <td>HORTALEZA</td>\n      <td>27</td>\n    </tr>\n    <tr>\n      <th>15</th>\n      <td>MORATALAZ</td>\n      <td>26</td>\n    </tr>\n    <tr>\n      <th>16</th>\n      <td>SAN BLAS-CANILLEJAS</td>\n      <td>20</td>\n    </tr>\n    <tr>\n      <th>17</th>\n      <td>VILLA DE VALLECAS</td>\n      <td>19</td>\n    </tr>\n    <tr>\n      <th>18</th>\n      <td>VILLAVERDE</td>\n      <td>18</td>\n    </tr>\n    <tr>\n      <th>19</th>\n      <td>BARAJAS</td>\n      <td>13</td>\n    </tr>\n    <tr>\n      <th>20</th>\n      <td>VIC\u00c1LVARO</td>\n      <td>9</td>\n    </tr>\n  </tbody>\n</table>\n</div>",
                        "text/plain": "               DISTRICT  NO ACCIDENTS\n0                CENTRO           142\n1            ARGANZUELA            72\n2             SALAMANCA            72\n3              CHAMBER\u00cd            70\n4                RETIRO            59\n5   FUENCARRAL-EL PARDO            49\n6                TETU\u00c1N            45\n7       MONCLOA-ARAVACA            45\n8           CARABANCHEL            43\n9    PUENTE DE VALLECAS            36\n10            CHAMART\u00cdN            32\n11               LATINA            31\n12        CIUDAD LINEAL            28\n13                USERA            28\n14            HORTALEZA            27\n15            MORATALAZ            26\n16  SAN BLAS-CANILLEJAS            20\n17    VILLA DE VALLECAS            19\n18           VILLAVERDE            18\n19              BARAJAS            13\n20            VIC\u00c1LVARO             9"
                    },
                    "execution_count": 12,
                    "metadata": {},
                    "output_type": "execute_result"
                }
            ],
            "source": "df_accidents_summary = df_accidents.groupby('DISTRICT').count().reset_index()\ndf_accidents_summary.rename(columns={'DATE':'NO ACCIDENTS'}, inplace=True)\ndf_accidents_summary.sort_values(by=['NO ACCIDENTS'], ascending=False, inplace=True)\ndf_accidents_summary.reset_index(inplace=True, drop=True)\ndf_accidents_summary"
        },
        {
            "cell_type": "code",
            "execution_count": 13,
            "metadata": {},
            "outputs": [
                {
                    "data": {
                        "text/html": "<div>\n<style scoped>\n    .dataframe tbody tr th:only-of-type {\n        vertical-align: middle;\n    }\n\n    .dataframe tbody tr th {\n        vertical-align: top;\n    }\n\n    .dataframe thead th {\n        text-align: right;\n    }\n</style>\n<table border=\"1\" class=\"dataframe\">\n  <thead>\n    <tr style=\"text-align: right;\">\n      <th></th>\n      <th>DISTRICT</th>\n      <th>NO ACCIDENTS</th>\n    </tr>\n  </thead>\n  <tbody>\n    <tr>\n      <th>0</th>\n      <td>CENTRO</td>\n      <td>142</td>\n    </tr>\n    <tr>\n      <th>1</th>\n      <td>ARGANZUELA</td>\n      <td>72</td>\n    </tr>\n    <tr>\n      <th>2</th>\n      <td>SALAMANCA</td>\n      <td>72</td>\n    </tr>\n    <tr>\n      <th>3</th>\n      <td>CHAMBERI</td>\n      <td>70</td>\n    </tr>\n    <tr>\n      <th>4</th>\n      <td>RETIRO</td>\n      <td>59</td>\n    </tr>\n    <tr>\n      <th>5</th>\n      <td>FUENCARRAL-EL PARDO</td>\n      <td>49</td>\n    </tr>\n    <tr>\n      <th>6</th>\n      <td>TETUAN</td>\n      <td>45</td>\n    </tr>\n    <tr>\n      <th>7</th>\n      <td>MONCLOA-ARAVACA</td>\n      <td>45</td>\n    </tr>\n    <tr>\n      <th>8</th>\n      <td>CARABANCHEL</td>\n      <td>43</td>\n    </tr>\n    <tr>\n      <th>9</th>\n      <td>PUENTE DE VALLECAS</td>\n      <td>36</td>\n    </tr>\n    <tr>\n      <th>10</th>\n      <td>CHAMARTIN</td>\n      <td>32</td>\n    </tr>\n    <tr>\n      <th>11</th>\n      <td>LATINA</td>\n      <td>31</td>\n    </tr>\n    <tr>\n      <th>12</th>\n      <td>CIUDAD LINEAL</td>\n      <td>28</td>\n    </tr>\n    <tr>\n      <th>13</th>\n      <td>USERA</td>\n      <td>28</td>\n    </tr>\n    <tr>\n      <th>14</th>\n      <td>HORTALEZA</td>\n      <td>27</td>\n    </tr>\n    <tr>\n      <th>15</th>\n      <td>MORATALAZ</td>\n      <td>26</td>\n    </tr>\n    <tr>\n      <th>16</th>\n      <td>SAN BLAS-CANILLEJAS</td>\n      <td>20</td>\n    </tr>\n    <tr>\n      <th>17</th>\n      <td>VILLA DE VALLECAS</td>\n      <td>19</td>\n    </tr>\n    <tr>\n      <th>18</th>\n      <td>VILLAVERDE</td>\n      <td>18</td>\n    </tr>\n    <tr>\n      <th>19</th>\n      <td>BARAJAS</td>\n      <td>13</td>\n    </tr>\n    <tr>\n      <th>20</th>\n      <td>VICALVARO</td>\n      <td>9</td>\n    </tr>\n  </tbody>\n</table>\n</div>",
                        "text/plain": "               DISTRICT  NO ACCIDENTS\n0                CENTRO           142\n1            ARGANZUELA            72\n2             SALAMANCA            72\n3              CHAMBERI            70\n4                RETIRO            59\n5   FUENCARRAL-EL PARDO            49\n6                TETUAN            45\n7       MONCLOA-ARAVACA            45\n8           CARABANCHEL            43\n9    PUENTE DE VALLECAS            36\n10            CHAMARTIN            32\n11               LATINA            31\n12        CIUDAD LINEAL            28\n13                USERA            28\n14            HORTALEZA            27\n15            MORATALAZ            26\n16  SAN BLAS-CANILLEJAS            20\n17    VILLA DE VALLECAS            19\n18           VILLAVERDE            18\n19              BARAJAS            13\n20            VICALVARO             9"
                    },
                    "execution_count": 13,
                    "metadata": {},
                    "output_type": "execute_result"
                }
            ],
            "source": "# Data cleansing: change the names with accent characters\ndf_accidents_summary.replace({'CHAMBER\u00cd':'CHAMBERI'}, inplace=True)\ndf_accidents_summary.replace({'TETU\u00c1N':'TETUAN'}, inplace=True)\ndf_accidents_summary.replace({'CHAMART\u00cdN':'CHAMARTIN'}, inplace=True)\ndf_accidents_summary.replace({'VIC\u00c1LVARO':'VICALVARO'}, inplace=True)\ndf_accidents_summary"
        },
        {
            "cell_type": "markdown",
            "metadata": {},
            "source": "#### We save the DataFrame into a CSV file (Bicycle_Accidents.csv). Cell is hidden as it contains credentials."
        },
        {
            "cell_type": "code",
            "execution_count": 14,
            "metadata": {},
            "outputs": [
                {
                    "data": {
                        "text/plain": "{'file_name': 'Bicycle_Accidents.csv',\n 'message': 'File saved to project storage.',\n 'bucket_name': 'capstoneprojectnotebook-donotdelete-pr-o8lsietovhyq9h',\n 'asset_id': '6fbf1279-b301-41ea-8a52-10f143cea047'}"
                    },
                    "execution_count": 14,
                    "metadata": {},
                    "output_type": "execute_result"
                }
            ],
            "source": "# The code was removed by Watson Studio for sharing."
        }
    ],
    "metadata": {
        "kernelspec": {
            "display_name": "Python 3.6",
            "language": "python",
            "name": "python3"
        },
        "language_info": {
            "codemirror_mode": {
                "name": "ipython",
                "version": 3
            },
            "file_extension": ".py",
            "mimetype": "text/x-python",
            "name": "python",
            "nbconvert_exporter": "python",
            "pygments_lexer": "ipython3",
            "version": "3.6.9"
        }
    },
    "nbformat": 4,
    "nbformat_minor": 1
}