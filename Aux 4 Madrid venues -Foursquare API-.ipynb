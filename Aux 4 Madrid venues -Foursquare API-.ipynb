{
    "cells": [
        {
            "cell_type": "markdown",
            "metadata": {},
            "source": "## Aux 4 Madrid venues -Foursquare API-"
        },
        {
            "cell_type": "code",
            "execution_count": 1,
            "metadata": {},
            "outputs": [],
            "source": "# Import libraries\nimport pandas as pd\nimport json\nfrom pandas.io.json import json_normalize # tranform JSON file into a pandas dataframe\nimport requests\nimport types\nfrom botocore.client import Config\nimport ibm_boto3"
        },
        {
            "cell_type": "markdown",
            "metadata": {},
            "source": "#### Create a DataFrame (df_madrid_geo) including the coordinates for each Madrid district.\n#### Cell is hidden as it contains credentials."
        },
        {
            "cell_type": "code",
            "execution_count": 2,
            "metadata": {},
            "outputs": [],
            "source": "# The code was removed by Watson Studio for sharing."
        },
        {
            "cell_type": "markdown",
            "metadata": {},
            "source": "#### Coordinates for Madrid districts"
        },
        {
            "cell_type": "code",
            "execution_count": 3,
            "metadata": {},
            "outputs": [
                {
                    "data": {
                        "text/html": "<div>\n<style scoped>\n    .dataframe tbody tr th:only-of-type {\n        vertical-align: middle;\n    }\n\n    .dataframe tbody tr th {\n        vertical-align: top;\n    }\n\n    .dataframe thead th {\n        text-align: right;\n    }\n</style>\n<table border=\"1\" class=\"dataframe\">\n  <thead>\n    <tr style=\"text-align: right;\">\n      <th></th>\n      <th>DISTRICT</th>\n      <th>LATITUDE</th>\n      <th>LONGITUDE</th>\n    </tr>\n  </thead>\n  <tbody>\n    <tr>\n      <th>0</th>\n      <td>ARGANZUELA</td>\n      <td>40.400211</td>\n      <td>-3.696180</td>\n    </tr>\n    <tr>\n      <th>1</th>\n      <td>BARAJAS</td>\n      <td>40.473659</td>\n      <td>-3.577770</td>\n    </tr>\n    <tr>\n      <th>2</th>\n      <td>CARABANCHEL</td>\n      <td>40.375215</td>\n      <td>-3.744876</td>\n    </tr>\n    <tr>\n      <th>3</th>\n      <td>CENTRO</td>\n      <td>40.411516</td>\n      <td>-3.707644</td>\n    </tr>\n    <tr>\n      <th>4</th>\n      <td>CHAMARTIN</td>\n      <td>40.462059</td>\n      <td>-3.676600</td>\n    </tr>\n    <tr>\n      <th>5</th>\n      <td>CHAMBERI</td>\n      <td>40.434040</td>\n      <td>-3.703790</td>\n    </tr>\n    <tr>\n      <th>6</th>\n      <td>CIUDAD LINEAL</td>\n      <td>40.445668</td>\n      <td>-3.654384</td>\n    </tr>\n    <tr>\n      <th>7</th>\n      <td>FUENCARRAL-EL PARDO</td>\n      <td>40.498402</td>\n      <td>-3.731400</td>\n    </tr>\n    <tr>\n      <th>8</th>\n      <td>HORTALEZA</td>\n      <td>40.474441</td>\n      <td>-3.641100</td>\n    </tr>\n    <tr>\n      <th>9</th>\n      <td>LATINA</td>\n      <td>40.400211</td>\n      <td>-3.726519</td>\n    </tr>\n    <tr>\n      <th>10</th>\n      <td>MONCLOA-ARAVACA</td>\n      <td>40.435471</td>\n      <td>-3.731700</td>\n    </tr>\n    <tr>\n      <th>11</th>\n      <td>MORATALAZ</td>\n      <td>40.407421</td>\n      <td>-3.649350</td>\n    </tr>\n    <tr>\n      <th>12</th>\n      <td>PUENTE DE VALLECAS</td>\n      <td>40.393539</td>\n      <td>-3.662000</td>\n    </tr>\n    <tr>\n      <th>13</th>\n      <td>RETIRO</td>\n      <td>40.413170</td>\n      <td>-3.683070</td>\n    </tr>\n    <tr>\n      <th>14</th>\n      <td>SALAMANCA</td>\n      <td>40.429722</td>\n      <td>-3.679750</td>\n    </tr>\n    <tr>\n      <th>15</th>\n      <td>SAN BLAS-CANILLEJAS</td>\n      <td>40.432184</td>\n      <td>-3.627880</td>\n    </tr>\n    <tr>\n      <th>16</th>\n      <td>TETUAN</td>\n      <td>40.459751</td>\n      <td>-3.697500</td>\n    </tr>\n    <tr>\n      <th>17</th>\n      <td>USERA</td>\n      <td>40.382593</td>\n      <td>-3.709875</td>\n    </tr>\n    <tr>\n      <th>18</th>\n      <td>VICALVARO</td>\n      <td>40.404200</td>\n      <td>-3.576780</td>\n    </tr>\n    <tr>\n      <th>19</th>\n      <td>VILLA DE VALLECAS</td>\n      <td>40.366955</td>\n      <td>-3.606064</td>\n    </tr>\n    <tr>\n      <th>20</th>\n      <td>VILLAVERDE</td>\n      <td>40.349998</td>\n      <td>-3.700000</td>\n    </tr>\n  </tbody>\n</table>\n</div>",
                        "text/plain": "               DISTRICT   LATITUDE  LONGITUDE\n0            ARGANZUELA  40.400211  -3.696180\n1               BARAJAS  40.473659  -3.577770\n2           CARABANCHEL  40.375215  -3.744876\n3                CENTRO  40.411516  -3.707644\n4             CHAMARTIN  40.462059  -3.676600\n5              CHAMBERI  40.434040  -3.703790\n6         CIUDAD LINEAL  40.445668  -3.654384\n7   FUENCARRAL-EL PARDO  40.498402  -3.731400\n8             HORTALEZA  40.474441  -3.641100\n9                LATINA  40.400211  -3.726519\n10      MONCLOA-ARAVACA  40.435471  -3.731700\n11            MORATALAZ  40.407421  -3.649350\n12   PUENTE DE VALLECAS  40.393539  -3.662000\n13               RETIRO  40.413170  -3.683070\n14            SALAMANCA  40.429722  -3.679750\n15  SAN BLAS-CANILLEJAS  40.432184  -3.627880\n16               TETUAN  40.459751  -3.697500\n17                USERA  40.382593  -3.709875\n18            VICALVARO  40.404200  -3.576780\n19    VILLA DE VALLECAS  40.366955  -3.606064\n20           VILLAVERDE  40.349998  -3.700000"
                    },
                    "execution_count": 3,
                    "metadata": {},
                    "output_type": "execute_result"
                }
            ],
            "source": "df_madrid_geo"
        },
        {
            "cell_type": "markdown",
            "metadata": {},
            "source": "#### Define Foursquare Credentials and Version\n#### Cell is hidden as it contains credentials."
        },
        {
            "cell_type": "code",
            "execution_count": 4,
            "metadata": {},
            "outputs": [],
            "source": "# The code was removed by Watson Studio for sharing."
        },
        {
            "cell_type": "markdown",
            "metadata": {},
            "source": "#### Define a function to obtain the top 100 venues for each district (max value for the API) in a 400 meters radius for the category 'food'"
        },
        {
            "cell_type": "code",
            "execution_count": 5,
            "metadata": {},
            "outputs": [],
            "source": "def getNearbyVenues(names, latitudes, longitudes, radius=400, limit=500, categoryId=\"4d4b7105d754a06374d81259\"):\n    \n    venues_list=[]\n    for name, lat, lng in zip(names, latitudes, longitudes):\n        print(name)\n            \n        # create the API request URL\n        url = 'https://api.foursquare.com/v2/venues/explore?categoryId={}&client_id={}&client_secret={}&v={}&ll={},{}&radius={}&limit={}'.format(\n            categoryId,\n            CLIENT_ID, \n            CLIENT_SECRET, \n            VERSION, \n            lat, \n            lng, \n            radius, \n            limit)\n            \n        # make the GET request\n        results = requests.get(url).json()[\"response\"]['groups'][0]['items']\n        \n        # return only relevant information for each nearby venue\n        venues_list.append([(\n            name, \n            lat, \n            lng, \n            v['venue']['name'], \n            v['venue']['location']['lat'], \n            v['venue']['location']['lng'],\n            v['venue']['categories'][0]['name']) for v in results])\n\n    nearby_venues = pd.DataFrame([item for venue_list in venues_list for item in venue_list])\n    nearby_venues.columns = ['DISTRICT', \n                  'LATITUDE', \n                  'LONGITUDE', \n                  'VENUE', \n                  'VENUE LATITUDE', \n                  'VENUE LONGITUDE', \n                  'VENUE CATEGORY',]\n    return(nearby_venues)"
        },
        {
            "cell_type": "markdown",
            "metadata": {},
            "source": "#### Include the venues information in the DataFrame"
        },
        {
            "cell_type": "code",
            "execution_count": 6,
            "metadata": {},
            "outputs": [
                {
                    "name": "stdout",
                    "output_type": "stream",
                    "text": "ARGANZUELA\nBARAJAS\nCARABANCHEL\nCENTRO\nCHAMARTIN\nCHAMBERI\nCIUDAD LINEAL\nFUENCARRAL-EL PARDO\nHORTALEZA\nLATINA\nMONCLOA-ARAVACA\nMORATALAZ\nPUENTE DE VALLECAS\nRETIRO\nSALAMANCA\nSAN BLAS-CANILLEJAS\nTETUAN\nUSERA\nVICALVARO\nVILLA DE VALLECAS\nVILLAVERDE\n"
                }
            ],
            "source": "df_venues = getNearbyVenues(names=df_madrid_geo['DISTRICT'],\n                                   latitudes=df_madrid_geo['LATITUDE'],\n                                   longitudes=df_madrid_geo['LONGITUDE']\n                                  )"
        },
        {
            "cell_type": "code",
            "execution_count": 7,
            "metadata": {},
            "outputs": [
                {
                    "data": {
                        "text/plain": "(410, 7)"
                    },
                    "execution_count": 7,
                    "metadata": {},
                    "output_type": "execute_result"
                }
            ],
            "source": "# Check the size of the df\ndf_venues.shape"
        },
        {
            "cell_type": "markdown",
            "metadata": {},
            "source": "#### Venues information"
        },
        {
            "cell_type": "code",
            "execution_count": 8,
            "metadata": {},
            "outputs": [
                {
                    "data": {
                        "text/html": "<div>\n<style scoped>\n    .dataframe tbody tr th:only-of-type {\n        vertical-align: middle;\n    }\n\n    .dataframe tbody tr th {\n        vertical-align: top;\n    }\n\n    .dataframe thead th {\n        text-align: right;\n    }\n</style>\n<table border=\"1\" class=\"dataframe\">\n  <thead>\n    <tr style=\"text-align: right;\">\n      <th></th>\n      <th>DISTRICT</th>\n      <th>LATITUDE</th>\n      <th>LONGITUDE</th>\n      <th>VENUE</th>\n      <th>VENUE LATITUDE</th>\n      <th>VENUE LONGITUDE</th>\n      <th>VENUE CATEGORY</th>\n    </tr>\n  </thead>\n  <tbody>\n    <tr>\n      <th>0</th>\n      <td>ARGANZUELA</td>\n      <td>40.400211</td>\n      <td>-3.69618</td>\n      <td>La Peque\u00f1a Gran\u00e1</td>\n      <td>40.399574</td>\n      <td>-3.698550</td>\n      <td>Tapas Restaurant</td>\n    </tr>\n    <tr>\n      <th>1</th>\n      <td>ARGANZUELA</td>\n      <td>40.400211</td>\n      <td>-3.69618</td>\n      <td>Havana Blues</td>\n      <td>40.402050</td>\n      <td>-3.698488</td>\n      <td>Cuban Restaurant</td>\n    </tr>\n    <tr>\n      <th>2</th>\n      <td>ARGANZUELA</td>\n      <td>40.400211</td>\n      <td>-3.69618</td>\n      <td>El Quinto Pecado</td>\n      <td>40.400028</td>\n      <td>-3.694446</td>\n      <td>Gastropub</td>\n    </tr>\n    <tr>\n      <th>3</th>\n      <td>ARGANZUELA</td>\n      <td>40.400211</td>\n      <td>-3.69618</td>\n      <td>Tres Cerditos</td>\n      <td>40.397316</td>\n      <td>-3.694184</td>\n      <td>Chinese Restaurant</td>\n    </tr>\n    <tr>\n      <th>4</th>\n      <td>ARGANZUELA</td>\n      <td>40.400211</td>\n      <td>-3.69618</td>\n      <td>Restaurante Buen Gusto</td>\n      <td>40.401766</td>\n      <td>-3.698961</td>\n      <td>Chinese Restaurant</td>\n    </tr>\n  </tbody>\n</table>\n</div>",
                        "text/plain": "     DISTRICT   LATITUDE  LONGITUDE                   VENUE  VENUE LATITUDE  \\\n0  ARGANZUELA  40.400211   -3.69618        La Peque\u00f1a Gran\u00e1       40.399574   \n1  ARGANZUELA  40.400211   -3.69618            Havana Blues       40.402050   \n2  ARGANZUELA  40.400211   -3.69618        El Quinto Pecado       40.400028   \n3  ARGANZUELA  40.400211   -3.69618           Tres Cerditos       40.397316   \n4  ARGANZUELA  40.400211   -3.69618  Restaurante Buen Gusto       40.401766   \n\n   VENUE LONGITUDE      VENUE CATEGORY  \n0        -3.698550    Tapas Restaurant  \n1        -3.698488    Cuban Restaurant  \n2        -3.694446           Gastropub  \n3        -3.694184  Chinese Restaurant  \n4        -3.698961  Chinese Restaurant  "
                    },
                    "execution_count": 8,
                    "metadata": {},
                    "output_type": "execute_result"
                }
            ],
            "source": "df_venues.head()"
        },
        {
            "cell_type": "markdown",
            "metadata": {},
            "source": "#### Explore venue 'food' categories"
        },
        {
            "cell_type": "code",
            "execution_count": 9,
            "metadata": {},
            "outputs": [
                {
                    "data": {
                        "text/plain": "Spanish Restaurant                 86\nTapas Restaurant                   49\nRestaurant                         44\nCaf\u00e9                               26\nPizza Place                        17\nBakery                             15\nDiner                              12\nMediterranean Restaurant           11\nBurger Joint                       10\nSandwich Place                     10\nBreakfast Spot                      9\nMexican Restaurant                  9\nItalian Restaurant                  9\nChinese Restaurant                  9\nSnack Place                         9\nGastropub                           7\nSushi Restaurant                    7\nFast Food Restaurant                7\nBistro                              6\nVegetarian / Vegan Restaurant       6\nAsian Restaurant                    6\nJapanese Restaurant                 5\nSeafood Restaurant                  5\nPaella Restaurant                   4\nFalafel Restaurant                  2\nAmerican Restaurant                 2\nLatin American Restaurant           2\nFood                                2\nComfort Food Restaurant             2\nSouth American Restaurant           1\nArgentinian Restaurant              1\nTaco Place                          1\nCreperie                            1\nCuban Restaurant                    1\nBrazilian Restaurant                1\nTurkish Restaurant                  1\nSteakhouse                          1\nFood Court                          1\nBBQ Joint                           1\nBurrito Place                       1\nRamen Restaurant                    1\nKebab Restaurant                    1\nDeli / Bodega                       1\nMolecular Gastronomy Restaurant     1\nLebanese Restaurant                 1\nGluten-free Restaurant              1\nIndian Restaurant                   1\nIrish Pub                           1\nCafeteria                           1\nVietnamese Restaurant               1\nGerman Restaurant                   1\nName: VENUE CATEGORY, dtype: int64"
                    },
                    "execution_count": 9,
                    "metadata": {},
                    "output_type": "execute_result"
                }
            ],
            "source": "df_venues['VENUE CATEGORY'].value_counts()"
        },
        {
            "cell_type": "markdown",
            "metadata": {},
            "source": "#### Explore the number of venues by district"
        },
        {
            "cell_type": "code",
            "execution_count": 10,
            "metadata": {},
            "outputs": [
                {
                    "data": {
                        "text/plain": "CENTRO                 100\nCHAMBERI                85\nSALAMANCA               34\nARGANZUELA              31\nCIUDAD LINEAL           24\nTETUAN                  24\nBARAJAS                 20\nPUENTE DE VALLECAS      18\nSAN BLAS-CANILLEJAS     16\nHORTALEZA                9\nUSERA                    8\nCHAMARTIN                8\nMORATALAZ                7\nVILLAVERDE               5\nVILLA DE VALLECAS        5\nLATINA                   5\nRETIRO                   5\nCARABANCHEL              4\nMONCLOA-ARAVACA          2\nName: DISTRICT, dtype: int64"
                    },
                    "execution_count": 10,
                    "metadata": {},
                    "output_type": "execute_result"
                }
            ],
            "source": "df_venues['DISTRICT'].value_counts()"
        },
        {
            "cell_type": "code",
            "execution_count": 11,
            "metadata": {},
            "outputs": [
                {
                    "data": {
                        "text/plain": "DISTRICT           0\nLATITUDE           0\nLONGITUDE          0\nVENUE              0\nVENUE LATITUDE     0\nVENUE LONGITUDE    0\nVENUE CATEGORY     0\ndtype: int64"
                    },
                    "execution_count": 11,
                    "metadata": {},
                    "output_type": "execute_result"
                }
            ],
            "source": "# Check if there is any missing value\ndf_venues.isna().sum()"
        },
        {
            "cell_type": "markdown",
            "metadata": {},
            "source": "#### We save the DataFrame into a CSV file (Venues.csv). Cell is hidden as it contains credentials."
        },
        {
            "cell_type": "code",
            "execution_count": 12,
            "metadata": {},
            "outputs": [
                {
                    "data": {
                        "text/plain": "{'file_name': 'Venues.csv',\n 'message': 'File saved to project storage.',\n 'bucket_name': 'capstoneprojectnotebook-donotdelete-pr-o8lsietovhyq9h',\n 'asset_id': 'b0844513-8519-418c-bb04-8acd38bb95aa'}"
                    },
                    "execution_count": 12,
                    "metadata": {},
                    "output_type": "execute_result"
                }
            ],
            "source": "# The code was removed by Watson Studio for sharing."
        },
        {
            "cell_type": "markdown",
            "metadata": {},
            "source": "#### Venues grouped by district"
        },
        {
            "cell_type": "code",
            "execution_count": 13,
            "metadata": {},
            "outputs": [
                {
                    "data": {
                        "text/html": "<div>\n<style scoped>\n    .dataframe tbody tr th:only-of-type {\n        vertical-align: middle;\n    }\n\n    .dataframe tbody tr th {\n        vertical-align: top;\n    }\n\n    .dataframe thead th {\n        text-align: right;\n    }\n</style>\n<table border=\"1\" class=\"dataframe\">\n  <thead>\n    <tr style=\"text-align: right;\">\n      <th></th>\n      <th>DISTRICT</th>\n      <th>NO VENUES</th>\n    </tr>\n  </thead>\n  <tbody>\n    <tr>\n      <th>0</th>\n      <td>CENTRO</td>\n      <td>100</td>\n    </tr>\n    <tr>\n      <th>1</th>\n      <td>CHAMBERI</td>\n      <td>85</td>\n    </tr>\n    <tr>\n      <th>2</th>\n      <td>SALAMANCA</td>\n      <td>34</td>\n    </tr>\n    <tr>\n      <th>3</th>\n      <td>ARGANZUELA</td>\n      <td>31</td>\n    </tr>\n    <tr>\n      <th>4</th>\n      <td>CIUDAD LINEAL</td>\n      <td>24</td>\n    </tr>\n    <tr>\n      <th>5</th>\n      <td>TETUAN</td>\n      <td>24</td>\n    </tr>\n    <tr>\n      <th>6</th>\n      <td>BARAJAS</td>\n      <td>20</td>\n    </tr>\n    <tr>\n      <th>7</th>\n      <td>PUENTE DE VALLECAS</td>\n      <td>18</td>\n    </tr>\n    <tr>\n      <th>8</th>\n      <td>SAN BLAS-CANILLEJAS</td>\n      <td>16</td>\n    </tr>\n    <tr>\n      <th>9</th>\n      <td>HORTALEZA</td>\n      <td>9</td>\n    </tr>\n    <tr>\n      <th>10</th>\n      <td>CHAMARTIN</td>\n      <td>8</td>\n    </tr>\n    <tr>\n      <th>11</th>\n      <td>USERA</td>\n      <td>8</td>\n    </tr>\n    <tr>\n      <th>12</th>\n      <td>MORATALAZ</td>\n      <td>7</td>\n    </tr>\n    <tr>\n      <th>13</th>\n      <td>VILLA DE VALLECAS</td>\n      <td>5</td>\n    </tr>\n    <tr>\n      <th>14</th>\n      <td>VILLAVERDE</td>\n      <td>5</td>\n    </tr>\n    <tr>\n      <th>15</th>\n      <td>RETIRO</td>\n      <td>5</td>\n    </tr>\n    <tr>\n      <th>16</th>\n      <td>LATINA</td>\n      <td>5</td>\n    </tr>\n    <tr>\n      <th>17</th>\n      <td>CARABANCHEL</td>\n      <td>4</td>\n    </tr>\n    <tr>\n      <th>18</th>\n      <td>MONCLOA-ARAVACA</td>\n      <td>2</td>\n    </tr>\n  </tbody>\n</table>\n</div>",
                        "text/plain": "               DISTRICT  NO VENUES\n0                CENTRO        100\n1              CHAMBERI         85\n2             SALAMANCA         34\n3            ARGANZUELA         31\n4         CIUDAD LINEAL         24\n5                TETUAN         24\n6               BARAJAS         20\n7    PUENTE DE VALLECAS         18\n8   SAN BLAS-CANILLEJAS         16\n9             HORTALEZA          9\n10            CHAMARTIN          8\n11                USERA          8\n12            MORATALAZ          7\n13    VILLA DE VALLECAS          5\n14           VILLAVERDE          5\n15               RETIRO          5\n16               LATINA          5\n17          CARABANCHEL          4\n18      MONCLOA-ARAVACA          2"
                    },
                    "execution_count": 13,
                    "metadata": {},
                    "output_type": "execute_result"
                }
            ],
            "source": "# Create a new df with the no of venues grouped by district\ndf_venues_summary = df_venues.groupby('DISTRICT').count().reset_index()\ndf_venues_summary.rename(columns={'LATITUDE':'NO VENUES'}, inplace=True)\ndf_venues_summary = df_venues_summary.drop(df_venues_summary.columns[[2, 3, 4, 5, 6]], axis=1)\ndf_venues_summary.sort_values(by=['NO VENUES'], ascending=False, inplace=True)\ndf_venues_summary.reset_index(inplace=True, drop=True)\ndf_venues_summary"
        },
        {
            "cell_type": "code",
            "execution_count": 14,
            "metadata": {},
            "outputs": [
                {
                    "data": {
                        "text/plain": "(19, 2)"
                    },
                    "execution_count": 14,
                    "metadata": {},
                    "output_type": "execute_result"
                }
            ],
            "source": "# Check the new size of the df\ndf_venues_summary.shape"
        },
        {
            "cell_type": "code",
            "execution_count": 15,
            "metadata": {},
            "outputs": [],
            "source": "# Add new rows for districts with 0 venues\nnew_row1 = {'DISTRICT':'FUENCARRAL-EL PARDO', 'NO VENUES':0}\nnew_row2 = {'DISTRICT':'VICALVARO', 'NO VENUES':0}\ndf_venues_summary = df_venues_summary.append(new_row1, ignore_index=True)\ndf_venues_summary = df_venues_summary.append(new_row2, ignore_index=True)"
        },
        {
            "cell_type": "code",
            "execution_count": 16,
            "metadata": {},
            "outputs": [
                {
                    "data": {
                        "text/html": "<div>\n<style scoped>\n    .dataframe tbody tr th:only-of-type {\n        vertical-align: middle;\n    }\n\n    .dataframe tbody tr th {\n        vertical-align: top;\n    }\n\n    .dataframe thead th {\n        text-align: right;\n    }\n</style>\n<table border=\"1\" class=\"dataframe\">\n  <thead>\n    <tr style=\"text-align: right;\">\n      <th></th>\n      <th>DISTRICT</th>\n      <th>NO VENUES</th>\n    </tr>\n  </thead>\n  <tbody>\n    <tr>\n      <th>0</th>\n      <td>CENTRO</td>\n      <td>100</td>\n    </tr>\n    <tr>\n      <th>1</th>\n      <td>CHAMBERI</td>\n      <td>85</td>\n    </tr>\n    <tr>\n      <th>2</th>\n      <td>SALAMANCA</td>\n      <td>34</td>\n    </tr>\n    <tr>\n      <th>3</th>\n      <td>ARGANZUELA</td>\n      <td>31</td>\n    </tr>\n    <tr>\n      <th>4</th>\n      <td>CIUDAD LINEAL</td>\n      <td>24</td>\n    </tr>\n    <tr>\n      <th>5</th>\n      <td>TETUAN</td>\n      <td>24</td>\n    </tr>\n    <tr>\n      <th>6</th>\n      <td>BARAJAS</td>\n      <td>20</td>\n    </tr>\n    <tr>\n      <th>7</th>\n      <td>PUENTE DE VALLECAS</td>\n      <td>18</td>\n    </tr>\n    <tr>\n      <th>8</th>\n      <td>SAN BLAS-CANILLEJAS</td>\n      <td>16</td>\n    </tr>\n    <tr>\n      <th>9</th>\n      <td>HORTALEZA</td>\n      <td>9</td>\n    </tr>\n    <tr>\n      <th>10</th>\n      <td>CHAMARTIN</td>\n      <td>8</td>\n    </tr>\n    <tr>\n      <th>11</th>\n      <td>USERA</td>\n      <td>8</td>\n    </tr>\n    <tr>\n      <th>12</th>\n      <td>MORATALAZ</td>\n      <td>7</td>\n    </tr>\n    <tr>\n      <th>13</th>\n      <td>VILLA DE VALLECAS</td>\n      <td>5</td>\n    </tr>\n    <tr>\n      <th>14</th>\n      <td>VILLAVERDE</td>\n      <td>5</td>\n    </tr>\n    <tr>\n      <th>15</th>\n      <td>RETIRO</td>\n      <td>5</td>\n    </tr>\n    <tr>\n      <th>16</th>\n      <td>LATINA</td>\n      <td>5</td>\n    </tr>\n    <tr>\n      <th>17</th>\n      <td>CARABANCHEL</td>\n      <td>4</td>\n    </tr>\n    <tr>\n      <th>18</th>\n      <td>MONCLOA-ARAVACA</td>\n      <td>2</td>\n    </tr>\n    <tr>\n      <th>19</th>\n      <td>FUENCARRAL-EL PARDO</td>\n      <td>0</td>\n    </tr>\n    <tr>\n      <th>20</th>\n      <td>VICALVARO</td>\n      <td>0</td>\n    </tr>\n  </tbody>\n</table>\n</div>",
                        "text/plain": "               DISTRICT  NO VENUES\n0                CENTRO        100\n1              CHAMBERI         85\n2             SALAMANCA         34\n3            ARGANZUELA         31\n4         CIUDAD LINEAL         24\n5                TETUAN         24\n6               BARAJAS         20\n7    PUENTE DE VALLECAS         18\n8   SAN BLAS-CANILLEJAS         16\n9             HORTALEZA          9\n10            CHAMARTIN          8\n11                USERA          8\n12            MORATALAZ          7\n13    VILLA DE VALLECAS          5\n14           VILLAVERDE          5\n15               RETIRO          5\n16               LATINA          5\n17          CARABANCHEL          4\n18      MONCLOA-ARAVACA          2\n19  FUENCARRAL-EL PARDO          0\n20            VICALVARO          0"
                    },
                    "execution_count": 16,
                    "metadata": {},
                    "output_type": "execute_result"
                }
            ],
            "source": "df_venues_summary"
        },
        {
            "cell_type": "markdown",
            "metadata": {},
            "source": "#### We save the DataFrame into a CSV file (Venues_Summary.csv). Cell is hidden as it contains credentials."
        },
        {
            "cell_type": "code",
            "execution_count": 17,
            "metadata": {},
            "outputs": [
                {
                    "data": {
                        "text/plain": "{'file_name': 'Venues_Summary.csv',\n 'message': 'File saved to project storage.',\n 'bucket_name': 'capstoneprojectnotebook-donotdelete-pr-o8lsietovhyq9h',\n 'asset_id': '02db3a64-f699-41df-aa04-15a8accf75f3'}"
                    },
                    "execution_count": 17,
                    "metadata": {},
                    "output_type": "execute_result"
                }
            ],
            "source": "# The code was removed by Watson Studio for sharing."
        }
    ],
    "metadata": {
        "kernelspec": {
            "display_name": "Python 3.6",
            "language": "python",
            "name": "python3"
        },
        "language_info": {
            "codemirror_mode": {
                "name": "ipython",
                "version": 3
            },
            "file_extension": ".py",
            "mimetype": "text/x-python",
            "name": "python",
            "nbconvert_exporter": "python",
            "pygments_lexer": "ipython3",
            "version": "3.6.9"
        }
    },
    "nbformat": 4,
    "nbformat_minor": 1
}